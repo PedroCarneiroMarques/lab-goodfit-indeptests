{
 "cells": [
  {
   "cell_type": "markdown",
   "metadata": {},
   "source": [
    "## Question 1\n",
    "The following table indicates the number of 6-point scores in an American rugby match in the 1979 season.\n",
    "\n",
    "![](table1.png)\n",
    "\n",
    "Based on these results, we create a Poisson distribution with the sample mean parameter  = 2.435. Is there any reason to believe that at a .05 level the number of scores is a Poisson variable?"
   ]
  },
  {
   "cell_type": "code",
   "execution_count": 3,
   "metadata": {},
   "outputs": [
    {
     "name": "stdout",
     "output_type": "stream",
     "text": [
      "At the 0.05 significance level, fail to reject the null hypothesis.\n",
      "There is no significant evidence to suggest that the number of scores does not follow a Poisson distribution.\n",
      "Chi-square statistic: 5.5005589331731475\n",
      "P-value: 0.5991164535654854\n"
     ]
    }
   ],
   "source": [
    "# your answer here\n",
    "from scipy.stats import poisson\n",
    "from scipy.stats import chisquare\n",
    "import numpy as np\n",
    "\n",
    "observed = np.array([35, 99, 104, 110, 62, 25, 10, 3])\n",
    "total_observed = np.sum(observed)\n",
    "lambda_param = 2.435\n",
    "expected = np.array([poisson.pmf(i, lambda_param) * total_observed for i in range(len(observed))])\n",
    "expected *= total_observed / np.sum(expected)\n",
    "chi2_stat, p_value = chisquare(observed, f_exp=expected)\n",
    "alpha = 0.05\n",
    "\n",
    "if p_value < alpha:\n",
    "    print(f\"At the {alpha} significance level, reject the null hypothesis.\")\n",
    "    print(\"The number of scores does not follow a Poisson distribution.\")\n",
    "else:\n",
    "    print(f\"At the {alpha} significance level, fail to reject the null hypothesis.\")\n",
    "    print(\"There is no significant evidence to suggest that the number of scores does not follow a Poisson distribution.\")\n",
    "\n",
    "print(f\"Chi-square statistic: {chi2_stat}\")\n",
    "print(f\"P-value: {p_value}\")\n",
    "\n"
   ]
  },
  {
   "cell_type": "markdown",
   "metadata": {},
   "source": [
    "## BONUS/OPTIONAL - Question 2\n",
    "Let's analyze a discrete distribution. To analyze the number of defective items in a factory in the city of Medellín, we took a random sample of n = 60 articles and observed the number of defectives in the following table:\n",
    "\n",
    "![](table2.png)\n",
    "\n",
    "A poissón distribution was proposed since it is defined for x = 0,1,2,3, .... using the following model:\n",
    "\n",
    "![](image1.png)\n",
    "\n",
    "For some extra insights check the following link: https://online.stat.psu.edu/stat504/node/63/ \n",
    "\n",
    "Does the distribution of defective items follow this distribution?"
   ]
  },
  {
   "cell_type": "code",
   "execution_count": 11,
   "metadata": {},
   "outputs": [
    {
     "name": "stdout",
     "output_type": "stream",
     "text": [
      "At the 0.05 significance level, fail to reject the null hypothesis.\n",
      "There is no significant evidence to suggest that the distribution of defective items does not follow a Poisson distribution with the proposed model.\n",
      "Chi-square statistic: 1.5398143337634154\n",
      "P-value: 0.8195662273210649\n"
     ]
    }
   ],
   "source": [
    "# your code here\n",
    "observed_freq = [27, 21, 7, 4, 1]\n",
    "defective_items = [0, 1, 2, 3, 4]\n",
    "n = 60\n",
    "lambda_param = sum([x * f for x, f in zip(defective_items, observed_freq)]) / n\n",
    "expected_freq = [poisson.pmf(x, lambda_param) * n for x in range(len(observed_freq) - 1)]\n",
    "expected_freq.append(n - sum(expected_freq))  # Last category for 4 or more defective items\n",
    "chi2_stat, p_value = chisquare(observed_freq, f_exp=expected_freq)\n",
    "alpha = 0.05\n",
    "\n",
    "if p_value < alpha:\n",
    "    print(f\"At the {alpha} significance level, reject the null hypothesis.\")\n",
    "    print(\"The distribution of defective items does not follow a Poisson distribution with the proposed model.\")\n",
    "else:\n",
    "    print(f\"At the {alpha} significance level, fail to reject the null hypothesis.\")\n",
    "    print(\"There is no significant evidence to suggest that the distribution of defective items does not follow a Poisson distribution with the proposed model.\")\n",
    "\n",
    "print(f\"Chi-square statistic: {chi2_stat}\")\n",
    "print(f\"P-value: {p_value}\")\n"
   ]
  },
  {
   "cell_type": "markdown",
   "metadata": {},
   "source": [
    "## Question 3\n",
    "A quality control engineer takes a sample of 10 tires that come out of an assembly line, and would like to verify on the basis of the data that follows, if the number of tires with defects observed over 200 days, if it is true that 5% of all tires have defects (that is, if the sample comes from a binomial population with n = 10 and p = 0.05). \n",
    "\n",
    "![](table3.png)\n"
   ]
  },
  {
   "cell_type": "code",
   "execution_count": 9,
   "metadata": {},
   "outputs": [
    {
     "name": "stdout",
     "output_type": "stream",
     "text": [
      "At the 0.05 significance level, reject the null hypothesis.\n",
      "The observed data does not fit a binomial distribution with n=10 and p=0.05.\n",
      "Chi-square statistic: 7994.391382369575\n",
      "P-value: 0.0\n"
     ]
    }
   ],
   "source": [
    "# your answer here\n",
    "from scipy.stats import binom\n",
    "\n",
    "observed_freq = [8, 35, 64, 62, 25, 6]\n",
    "n = 10\n",
    "p = 0.05\n",
    "total_days = 200\n",
    "expected_freq = [binom.pmf(i, n, p) * total_days for i in range(len(observed_freq)-1)]\n",
    "expected_freq_last = total_days - sum(expected_freq)\n",
    "expected_freq.append(expected_freq_last)\n",
    "chi2_stat, p_value = chisquare(observed_freq, f_exp=expected_freq)\n",
    "alpha = 0.05\n",
    "\n",
    "if p_value < alpha:\n",
    "    print(f\"At the {alpha} significance level, reject the null hypothesis.\")\n",
    "    print(\"The observed data does not fit a binomial distribution with n=10 and p=0.05.\")\n",
    "else:\n",
    "    print(f\"At the {alpha} significance level, fail to reject the null hypothesis.\")\n",
    "    print(\"The observed data fits a binomial distribution with n=10 and p=0.05.\")\n",
    "\n",
    "print(f\"Chi-square statistic: {chi2_stat}\")\n",
    "print(f\"P-value: {p_value}\")\n",
    "\n"
   ]
  },
  {
   "cell_type": "markdown",
   "metadata": {},
   "source": [
    "## Question 4\n",
    "A researcher gathers information about the patterns of Physical Activity of children in the fifth grade of primary school of a public school. He defines three categories of physical activity (Low, Medium, High). He also inquires about the regular consumption of sugary drinks at school, and defines two categories (Yes = consumed, No = not consumed). We would like to evaluate if there is an association between patterns of physical activity and the consumption of sugary drinks for the children of this school, at a level of 5% significance. The results are in the following table: \n",
    "\n",
    "![](table4.png)"
   ]
  },
  {
   "cell_type": "code",
   "execution_count": 8,
   "metadata": {},
   "outputs": [
    {
     "name": "stdout",
     "output_type": "stream",
     "text": [
      "At the 0.05 significance level, reject the null hypothesis.\n",
      "There is evidence of an association between patterns of physical activity and sugary drink consumption.\n",
      "Chi-square statistic: 7.924624060150377\n",
      "P-value: 0.019019090709576122\n"
     ]
    }
   ],
   "source": [
    "#your answer here\n",
    "from scipy.stats import chi2_contingency\n",
    "\n",
    "observed = [[30, 20],\n",
    "            [40, 35],\n",
    "            [25, 45]]\n",
    "\n",
    "chi2, p_value, dof, expected = chi2_contingency(observed)\n",
    "alpha = 0.05\n",
    "\n",
    "if p_value < alpha:\n",
    "    print(f\"At the {alpha} significance level, reject the null hypothesis.\")\n",
    "    print(\"There is evidence of an association between patterns of physical activity and sugary drink consumption.\")\n",
    "else:\n",
    "    print(f\"At the {alpha} significance level, fail to reject the null hypothesis.\")\n",
    "    print(\"There is no significant evidence of an association between patterns of physical activity and sugary drink consumption.\")\n",
    "\n",
    "print(f\"Chi-square statistic: {chi2}\")\n",
    "print(f\"P-value: {p_value}\")\n"
   ]
  }
 ],
 "metadata": {
  "kernelspec": {
   "display_name": "Python 3",
   "language": "python",
   "name": "python3"
  },
  "language_info": {
   "codemirror_mode": {
    "name": "ipython",
    "version": 3
   },
   "file_extension": ".py",
   "mimetype": "text/x-python",
   "name": "python",
   "nbconvert_exporter": "python",
   "pygments_lexer": "ipython3",
   "version": "3.11.0"
  }
 },
 "nbformat": 4,
 "nbformat_minor": 2
}
